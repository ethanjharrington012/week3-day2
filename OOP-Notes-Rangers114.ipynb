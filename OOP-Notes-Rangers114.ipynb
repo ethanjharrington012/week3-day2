{
 "cells": [
  {
   "cell_type": "markdown",
   "metadata": {},
   "source": [
    "# Object-Oriented-Programming (OOP)"
   ]
  },
  {
   "cell_type": "markdown",
   "metadata": {},
   "source": [
    "## Tasks Today:\n",
    "\n",
    "   \n",
    "\n",
    "1) <b>Creating a Class (Initializing/Declaring)</b> <br>\n",
    "2) <b>Using a Class (Instantiating)</b> <br>\n",
    " &nbsp;&nbsp;&nbsp;&nbsp; a) Creating One Instance <br>\n",
    " &nbsp;&nbsp;&nbsp;&nbsp; b) Creating Multiple Instances <br>\n",
    " &nbsp;&nbsp;&nbsp;&nbsp; c) In-Class Exercise #1 - Create a Class 'Car' and instantiate three different makes of cars <br>\n",
    "3) <b>The \\__init\\__() Method</b> <br>\n",
    " &nbsp;&nbsp;&nbsp;&nbsp; a) The 'self' Attribute <br>\n",
    "4) <b>Class Attributes</b> <br>\n",
    " &nbsp;&nbsp;&nbsp;&nbsp; a) Initializing Attributes <br>\n",
    " &nbsp;&nbsp;&nbsp;&nbsp; b) Setting an Attribute Outside of the \\__init\\__() Method <br>\n",
    " &nbsp;&nbsp;&nbsp;&nbsp; c) Setting Defaults for Attributes <br>\n",
    " &nbsp;&nbsp;&nbsp;&nbsp; d) Accessing Class Attributes <br>\n",
    " &nbsp;&nbsp;&nbsp;&nbsp; e) Changing Class Attributes <br>\n",
    " &nbsp;&nbsp;&nbsp;&nbsp; f) In-Class Exercise #2 - Add a color and wheels attribute to your 'Car' class <br>\n",
    "5) <b>Class Methods</b> <br>\n",
    " &nbsp;&nbsp;&nbsp;&nbsp; a) Creating <br>\n",
    " &nbsp;&nbsp;&nbsp;&nbsp; b) Calling <br>\n",
    " &nbsp;&nbsp;&nbsp;&nbsp; c) Modifying an Attribute's Value Through a Method <br>\n",
    " &nbsp;&nbsp;&nbsp;&nbsp; d) Incrementing an Attribute's Value Through a Method <br>\n",
    " &nbsp;&nbsp;&nbsp;&nbsp; e) In-Class Exercise #3 - Add a method that prints the cars color and wheel number, then call them <br>\n",
    "6) <b>Inheritance</b> <br>\n",
    " &nbsp;&nbsp;&nbsp;&nbsp; a) Syntax for Inheriting from a Parent Class <br>\n",
    " &nbsp;&nbsp;&nbsp;&nbsp; b) The \\__init\\__() Method for a Child Class (super()) <br>\n",
    " &nbsp;&nbsp;&nbsp;&nbsp; c) Defining Attributes and Methods for the Child Class <br>\n",
    " &nbsp;&nbsp;&nbsp;&nbsp; d) Method Overriding <br>\n",
    " &nbsp;&nbsp;&nbsp;&nbsp; e) In-Class Exercise #4 - Create a class 'Ford' that inherits from 'Car' class and initialize it as a Blue Ford Explorer with 4 wheels using the super() method <br>\n",
    "7) <b>Classes as Attributes</b> <br>\n",
    "8) <b>Exercises</b> <br>\n",
    " &nbsp;&nbsp;&nbsp;&nbsp; a) Exercise #1 - Turn the shopping cart program from last week into an object-oriented program <br>"
   ]
  },
  {
   "cell_type": "markdown",
   "metadata": {},
   "source": [
    "## Creating a Class (Initializing/Declaring)\n",
    "<p>When creating a class, function, or even a variable you are initializing that object. Initializing and Declaring occur at the same time in Python, whereas in lower level languages you have to declare an object before initializing it. This is the first step in the process of using a class.</p>"
   ]
  },
  {
   "cell_type": "code",
   "execution_count": 2,
   "metadata": {},
   "outputs": [],
   "source": [
    "\n",
    "\n",
    "class Car():\n",
    "    wheels = 4\n",
    "    color = \"Blue\"\n",
    "    "
   ]
  },
  {
   "cell_type": "markdown",
   "metadata": {},
   "source": [
    "## Using a Class (Instantiating)\n",
    "<p>The process of creating a class is called <i>Instantiating</i>. Each time you create a variable of that type of class, it is referred to as an <i>Instance</i> of that class. This is the second step in the process of using a class.</p>"
   ]
  },
  {
   "cell_type": "markdown",
   "metadata": {},
   "source": [
    "##### Creating One Instance"
   ]
  },
  {
   "cell_type": "code",
   "execution_count": 6,
   "metadata": {},
   "outputs": [
    {
     "name": "stdout",
     "output_type": "stream",
     "text": [
      "4\n",
      "Blue\n",
      "{}\n"
     ]
    }
   ],
   "source": [
    "mazda = Car()  #<-- need paranethesis()\n",
    "\n",
    "print(mazda.wheels)\n",
    "print(mazda.color)\n",
    "\n",
    "print(mazda.__dict__)"
   ]
  },
  {
   "cell_type": "markdown",
   "metadata": {},
   "source": [
    "##### Creating Multiple Instances"
   ]
  },
  {
   "cell_type": "code",
   "execution_count": null,
   "metadata": {},
   "outputs": [],
   "source": []
  },
  {
   "cell_type": "markdown",
   "metadata": {},
   "source": [
    "##### In-Class Exercise #1 - Create a Class 'Car' and Instantiate three different makes of cars"
   ]
  },
  {
   "cell_type": "code",
   "execution_count": 10,
   "metadata": {},
   "outputs": [],
   "source": [
    "class Human():\n",
    "    arms = 2\n",
    "    legs = 2\n",
    "    head = 1\n",
    "    eyeballs = \"yes\"\n",
    "    "
   ]
  },
  {
   "cell_type": "code",
   "execution_count": 11,
   "metadata": {},
   "outputs": [],
   "source": [
    "person = Human()\n"
   ]
  },
  {
   "cell_type": "code",
   "execution_count": 14,
   "metadata": {},
   "outputs": [
    {
     "name": "stdout",
     "output_type": "stream",
     "text": [
      "2\n",
      "yes\n",
      "1\n"
     ]
    }
   ],
   "source": [
    "print(person.arms)\n",
    "print(person.eyeballs)\n",
    "print(person.head)"
   ]
  },
  {
   "cell_type": "code",
   "execution_count": null,
   "metadata": {},
   "outputs": [],
   "source": []
  },
  {
   "cell_type": "code",
   "execution_count": null,
   "metadata": {},
   "outputs": [],
   "source": []
  },
  {
   "cell_type": "markdown",
   "metadata": {},
   "source": [
    "## The \\__init\\__() Method <br>\n",
    "<p>This method is used in almost every created class, and called only once upon the creation of the class instance. This method will initialize all variables needed for the object.</p>"
   ]
  },
  {
   "cell_type": "code",
   "execution_count": 16,
   "metadata": {},
   "outputs": [
    {
     "name": "stdout",
     "output_type": "stream",
     "text": [
      "blue\n",
      "black\n"
     ]
    }
   ],
   "source": [
    "# you can turn attributes into key value pairs\n",
    "\n",
    "class Car():\n",
    "    def __init__(self, wheels, color, doors):\n",
    "        self.wheels = wheels  #honda.wheels = <whatever the wheels arg we pass into the class init>\n",
    "        self.color = color  #honda.color = ^^\n",
    "        self.doors = doors\n",
    "        \n",
    "        \n",
    "mazda = Car(4, 'blue',4)\n",
    "\n",
    "chevy = Car(6, 'black', 4)\n",
    "\n",
    "subaru = Car(4, 'orange', 5)\n",
    "\n",
    "print(mazda.color)\n",
    "\n",
    "print(chevy.color)\n",
    "\n"
   ]
  },
  {
   "cell_type": "markdown",
   "metadata": {},
   "source": [
    "##### The 'self' Attribute <br>\n",
    "<p>This attribute is required to keep track of specific instance's attributes. Without the self attribute, the program would not know how to reference or keep track of an instance's attributes.</p>"
   ]
  },
  {
   "cell_type": "code",
   "execution_count": 34,
   "metadata": {},
   "outputs": [],
   "source": [
    "class Pokemon():\n",
    "    def __init__(self, type_):\n",
    "        #self will hold the object we will edventually instantieate\n",
    "        self.name = self.set_name()\n",
    "        self.type_ = type_  #<-- underscore because type is a function\n",
    "        \n",
    "        # method is a function inside of a class\n",
    "    def print_info(self):\n",
    "        print(f\"This is {self.name}. It is a {self.type_} type.\")\n",
    "        \n",
    "        \n",
    "    def set_name(self):\n",
    "        name = input(\"What is Your Pokemon's name? \")\n",
    "        return name\n",
    "    \n",
    "    "
   ]
  },
  {
   "cell_type": "markdown",
   "metadata": {},
   "source": [
    "## Class Attributes <br>\n",
    "<p>While variables are inside of a class, they are referred to as attributes and not variables. When someone says 'attribute' you know they're speaking about a class. Attributes can be initialized through the init method, or outside of it.</p>"
   ]
  },
  {
   "cell_type": "markdown",
   "metadata": {},
   "source": [
    "##### Initializing Attributes"
   ]
  },
  {
   "cell_type": "code",
   "execution_count": 35,
   "metadata": {},
   "outputs": [
    {
     "name": "stdout",
     "output_type": "stream",
     "text": [
      "What is Your Pokemon's name? charmander\n"
     ]
    }
   ],
   "source": [
    "charmander = Pokemon(\"fire\")\n"
   ]
  },
  {
   "cell_type": "markdown",
   "metadata": {},
   "source": [
    "##### Accessing Class Attributes"
   ]
  },
  {
   "cell_type": "code",
   "execution_count": 36,
   "metadata": {
    "scrolled": true
   },
   "outputs": [
    {
     "name": "stdout",
     "output_type": "stream",
     "text": [
      "charmander\n"
     ]
    }
   ],
   "source": [
    "print(charmander.name)"
   ]
  },
  {
   "cell_type": "markdown",
   "metadata": {},
   "source": [
    "##### Setting Defaults for Attributes"
   ]
  },
  {
   "cell_type": "code",
   "execution_count": 41,
   "metadata": {},
   "outputs": [
    {
     "name": "stdout",
     "output_type": "stream",
     "text": [
      "blue\n",
      "4\n",
      "Red\n",
      "Yellow\n",
      "\n",
      "\n",
      "orange\n"
     ]
    }
   ],
   "source": [
    "class Car():\n",
    "    def __init__(self, wheels):\n",
    "        self.wheels = wheels\n",
    "        self.color = 'blue'\n",
    "        \n",
    "honda = Car(4)\n",
    "print(honda.color)\n",
    "\n",
    "# setting a defoult paramiter in the __init__\n",
    "\n",
    "class Car():\n",
    "    def __init__(self, wheels, color = \"Red\"):\n",
    "        self.wheels = wheels\n",
    "        self.color = color\n",
    "        \n",
    "ford= Car(4)\n",
    "print(ford.wheels)\n",
    "print(ford.color)\n",
    "\n",
    "ford.color = \"Yellow\"\n",
    "print(ford.color)\n",
    "print(\"\\n\")\n",
    "toyota = Car(4, 'orange')\n",
    "print(toyota.color)"
   ]
  },
  {
   "cell_type": "markdown",
   "metadata": {},
   "source": [
    "##### Changing Class Attributes <br>\n",
    "<p>Keep in mind there are global class attributes and then there are attributes only available to each class instance which won't effect other classes.</p>"
   ]
  },
  {
   "cell_type": "code",
   "execution_count": 44,
   "metadata": {},
   "outputs": [
    {
     "name": "stdout",
     "output_type": "stream",
     "text": [
      "cheetor before he was broken: True\n",
      "Cheetor after he was fun False he is not fun\n"
     ]
    }
   ],
   "source": [
    "class Toy():\n",
    "    def __init__(self, name, is_it_fun):\n",
    "        self.name = name\n",
    "        self.is_it_fun = is_it_fun\n",
    "        \n",
    "# how to change attrubutes\n",
    "\n",
    "beast_wars = Toy(\"Cheetor\", True)\n",
    "print(f\"cheetor before he was broken: {beast_wars.is_it_fun}\")\n",
    "beast_wars.is_it_fun = False\n",
    "\n",
    "print(f\"Cheetor after he was fun {beast_wars.is_it_fun} he is not fun\")"
   ]
  },
  {
   "cell_type": "code",
   "execution_count": null,
   "metadata": {},
   "outputs": [],
   "source": []
  },
  {
   "cell_type": "code",
   "execution_count": null,
   "metadata": {},
   "outputs": [],
   "source": []
  },
  {
   "cell_type": "markdown",
   "metadata": {},
   "source": [
    "##### In-Class Exercise #2 - Add two new attributes to your 'Car' class then print out two different instances with different doors and seats. Then take that bad boy to the shop and change those attributes. Either with an input or just by changing them"
   ]
  },
  {
   "cell_type": "code",
   "execution_count": 47,
   "metadata": {},
   "outputs": [
    {
     "name": "stdout",
     "output_type": "stream",
     "text": [
      "4\n",
      "5\n"
     ]
    }
   ],
   "source": [
    "class car():\n",
    "    def __init__(self, wheels, buckels, head_lights):\n",
    "        self.name = name\n",
    "        self.wheels = wheels\n",
    "        self.buckels = buckels\n",
    "        self.head_lights = head_lights\n",
    "\n",
    "honda.wheels = 4\n",
    "print(honda.wheels)\n",
    "honda.wheels = 5\n",
    "print(honda.wheels)\n",
    "\n",
    "#  You can usew functions to set atrribues\n",
    "\n",
    "# self.souce = self.my_function()\n",
    "#  to set attributes"
   ]
  },
  {
   "cell_type": "code",
   "execution_count": 48,
   "metadata": {},
   "outputs": [
    {
     "name": "stdout",
     "output_type": "stream",
     "text": [
      "name: Draciel\n",
      "type: Attack\n",
      "franchise: Beyblade: Chronicles\n",
      "power_level: 9001\n"
     ]
    }
   ],
   "source": [
    "class Toy():\n",
    "    def __init__(self, name, type_, franchise, power_level = 1):\n",
    "        self.name = name\n",
    "        self.type = type_\n",
    "        self.franchise = franchise\n",
    "        self.power_level = power_level\n",
    "\n",
    "beyblade = Toy('Draciel', 'Attack', 'Beyblade')\n",
    "beyblade.franchise = 'Beyblade: Chronicles'\n",
    "beyblade.power_level += 9000\n",
    "\n",
    "for k, v in beyblade.__dict__.items():\n",
    "    print(f'{k}: {v}')"
   ]
  },
  {
   "cell_type": "markdown",
   "metadata": {},
   "source": [
    "## Class Methods <br>\n",
    "<p>While inside of a class, functions are referred to as 'methods'. If you hear someone mention methods, they're speaking about classes. Methods are essentially functions, but only callable on the instances of a class.</p>"
   ]
  },
  {
   "cell_type": "markdown",
   "metadata": {},
   "source": [
    "##### Creating"
   ]
  },
  {
   "cell_type": "code",
   "execution_count": 51,
   "metadata": {},
   "outputs": [],
   "source": [
    "#  a Mothode is a fuinctin inside of a class\n",
    "\n",
    "class Bus():\n",
    "    \"\"\"\n",
    "    the bus will have doors, seats, color, busDriver\n",
    "    \n",
    "    Attribues:\n",
    "    --doors: int\n",
    "    --seats: int\n",
    "    --seats: available: int\n",
    "    --color: string\n",
    "    --bus_driver: string\n",
    "    \n",
    "    \"\"\"\n",
    "    def __init__(self, doors, seats, seats_avail, color, bus_driver):\n",
    "        self.doors = doors\n",
    "        self.seats = seats\n",
    "        self.seats_avail = seats_avail\n",
    "        self.color = color\n",
    "        self.bus_driver = bus_driver\n",
    "        \n",
    "    #decrement the number of seats avail\n",
    "    def load_passengers(self):\n",
    "        if self.seats_avail == 0:\n",
    "            print(\"The bus is full we can't take anymore passengers\")\n",
    "#             if self.seats_avail < 0:\n",
    "#                 print(f\"you left{abs(self.seats_avail)} by the road!\")\n",
    "#                 self.seats_avail = 0\n",
    "        else:\n",
    "            passengers = int(input(\"how many passengers are getting on: \"))\n",
    "            self.seats_avail -= passengers\n",
    "            if self.seats_avail < 0:\n",
    "                print(f\"You left {abs(self.seats_avail)} by the road!\")\n",
    "                self.seats_avail = 0\n",
    "            print(f\"{passengers} have borded there are {self.seats_avail} on the bus.\")\n",
    "        \n",
    "    #incriment the number of seats avail\n",
    "    def unload_passengers(self):\n",
    "        if self.seats_avail >= self.seats:\n",
    "            print(\"There is no one left to get off the bus!\")\n",
    "        else:\n",
    "            unload = int(input(\"How many passengers are getting off the bus? \"))\n",
    "            self.seats_avail += unload\n",
    "            if self.seats_avail >= self.seats:\n",
    "                self.seats_avail = self.seats\n",
    "                \n",
    "            print(f\"{unload} Passengers have left the bus, there are {self.seats_avail} left\")\n",
    "    \n",
    "    #change bus driver atribue\n",
    "    def change_driver(self):\n",
    "        change = input(\"who is replaceing you? \")\n",
    "        self.bus_driver = change\n",
    "        print(f\"the new bus driver is {self.bus_driver}. Be sure to thank them\")\n",
    "    \n",
    "    #display number of avail seaqt\n",
    "    def check_seats(self):\n",
    "        print(f\"There are {self.seats_avail} availible.\")\n",
    "    \n",
    "    #diplay bus coloir\n",
    "    def admire_bus(self):\n",
    "        print(f\"Would you look at that amazing {self.color} BUS! WOULD YOU LOOK AT HER!\")\n",
    "    \n",
    "    "
   ]
  },
  {
   "cell_type": "code",
   "execution_count": 52,
   "metadata": {},
   "outputs": [
    {
     "name": "stdout",
     "output_type": "stream",
     "text": [
      "What do you wanna do, Load/Unload/Change Driver/Check seats/ Admire/ Quit: check seats\n",
      "There are 45 availible.\n",
      "What do you wanna do, Load/Unload/Change Driver/Check seats/ Admire/ Quit: load\n",
      "how many passengers are getting on: 20\n",
      "20 have borded there are 25 on the bus.\n",
      "What do you wanna do, Load/Unload/Change Driver/Check seats/ Admire/ Quit: unload\n"
     ]
    },
    {
     "ename": "AttributeError",
     "evalue": "'Bus' object has no attribute 'unload_passenegers'",
     "output_type": "error",
     "traceback": [
      "\u001b[0;31m---------------------------------------------------------------------------\u001b[0m",
      "\u001b[0;31mAttributeError\u001b[0m                            Traceback (most recent call last)",
      "Cell \u001b[0;32mIn[52], line 24\u001b[0m\n\u001b[1;32m     21\u001b[0m         \u001b[38;5;28;01melse\u001b[39;00m:\n\u001b[1;32m     22\u001b[0m             \u001b[38;5;28mprint\u001b[39m(\u001b[38;5;124m\"\u001b[39m\u001b[38;5;124mThat is not valid. please choose from the list\u001b[39m\u001b[38;5;124m\"\u001b[39m)\n\u001b[0;32m---> 24\u001b[0m \u001b[43mrun\u001b[49m\u001b[43m(\u001b[49m\u001b[43m)\u001b[49m\n",
      "Cell \u001b[0;32mIn[52], line 12\u001b[0m, in \u001b[0;36mrun\u001b[0;34m()\u001b[0m\n\u001b[1;32m     10\u001b[0m     ryan_bus\u001b[38;5;241m.\u001b[39mload_passengers()\n\u001b[1;32m     11\u001b[0m \u001b[38;5;28;01melif\u001b[39;00m response\u001b[38;5;241m.\u001b[39mlower() \u001b[38;5;241m==\u001b[39m \u001b[38;5;124m'\u001b[39m\u001b[38;5;124munload\u001b[39m\u001b[38;5;124m'\u001b[39m:\n\u001b[0;32m---> 12\u001b[0m     \u001b[43mryan_bus\u001b[49m\u001b[38;5;241;43m.\u001b[39;49m\u001b[43munload_passenegers\u001b[49m()\n\u001b[1;32m     14\u001b[0m \u001b[38;5;28;01melif\u001b[39;00m response\u001b[38;5;241m.\u001b[39mlower() \u001b[38;5;241m==\u001b[39m \u001b[38;5;124m'\u001b[39m\u001b[38;5;124mchange driver\u001b[39m\u001b[38;5;124m'\u001b[39m:\n\u001b[1;32m     15\u001b[0m     ryan_bus\u001b[38;5;241m.\u001b[39mchange_driver()\n",
      "\u001b[0;31mAttributeError\u001b[0m: 'Bus' object has no attribute 'unload_passenegers'"
     ]
    }
   ],
   "source": [
    "def run():\n",
    "    ryan_bus = Bus(2, 90, 45, 'yellow', 'Ryan')\n",
    "    \n",
    "    while True:\n",
    "        response = input(\"What do you wanna do, Load/Unload/Change Driver/Check seats/ Admire/ Quit: \")\n",
    "        if response.lower() == 'quit':\n",
    "            print(\"Oh no\")\n",
    "            break\n",
    "        elif response.lower() == 'load':\n",
    "            ryan_bus.load_passengers()\n",
    "        elif response.lower() == 'unload':\n",
    "            ryan_bus.unload_passenegers()\n",
    "            \n",
    "        elif response.lower() == 'change driver':\n",
    "            ryan_bus.change_driver()\n",
    "            \n",
    "        elif response.lower() == 'check seats':\n",
    "            ryan_bus.check_seats()\n",
    "        elif response.lower() == \"admire\":\n",
    "            ryan_bus.admire_bus()\n",
    "        else:\n",
    "            print(\"That is not valid. please choose from the list\")\n",
    "            \n",
    "run()"
   ]
  },
  {
   "cell_type": "code",
   "execution_count": 53,
   "metadata": {},
   "outputs": [],
   "source": [
    "class Bus():\n",
    "    \"\"\"\n",
    "    The bus will have doors, seats, seats available, color, and a bus driver\n",
    "    \n",
    "    Attributes for the bus:\n",
    "    --doors: integer\n",
    "    --seats: integer\n",
    "    --seats_available: intenger\n",
    "    --color: string\n",
    "    --bus_driver: string   \n",
    "    \n",
    "    \"\"\"\n",
    "    def __init__(self, doors, seats, seats_available, color, bus_driver):\n",
    "        self.doors = doors\n",
    "        self.seats = seats\n",
    "        self.seats_available = seats_available\n",
    "        self.color = color\n",
    "        self.bus_driver = bus_driver\n",
    "        \n",
    "    #decrement the number of seats available\n",
    "    def load_passenger(self):\n",
    "        if self.seats_available == 0:\n",
    "            print(\"The bus is full! You cant take any more passengers! :(\")\n",
    "#             if self.seats_available < 0:\n",
    "#                 print(f\"You left {abs(self.seats_available)} by the road!\")\n",
    "#                 self.seats_available = 0\n",
    "        else: \n",
    "            passengers = int(input(\"How many passengers are getting on? \"))\n",
    "            self.seats_available -= passengers\n",
    "            if self.seats_available < 0:\n",
    "                print(f\"You left {abs(self.seats_available)} by the road!\")\n",
    "                self.seats_available = 0\n",
    "            print(f\"{passengers} have boarded. There are {self.seats_available} seats available on the bus.\")\n",
    "    \n",
    "    #increment the number of seats available\n",
    "    def unload_passengers(self):\n",
    "        if self.seats_available >= self.seats:\n",
    "            print(\"There is no one left top get off the bus!\")\n",
    "        else:\n",
    "            unload = int(input(\"How man passengers are getting off the bus? \"))\n",
    "            self.seats_available += unload\n",
    "            if self.seats_available >= self.seats:\n",
    "                self.seats_available = self.seats\n",
    "                \n",
    "            print(f\"{unload} passengers have left the bus. There are {self.seats_available} left\")\n",
    "    \n",
    "    #change the bus driver attribute\n",
    "    def change_driver(self):\n",
    "        change = input(\"Who is replacing you? \")\n",
    "        self.bus_driver = change\n",
    "        print(f\"The new bus driver is {self.bus_driver}. Be sure to thank them!\")\n",
    "    \n",
    "    #display number of available seats\n",
    "    def check_seats(self):\n",
    "        print(f\"There are {self.seats_available} seats available\")\n",
    "    \n",
    "    #display bus color\n",
    "    def admire_bus(self):\n",
    "        print(f\"Would ya just look at that beautiful {self.color} bus! WOULD YA JUST LOOK AT IT!\")\n",
    "    \n",
    "    \n",
    "        \n",
    "        \n",
    "        "
   ]
  },
  {
   "cell_type": "code",
   "execution_count": 54,
   "metadata": {},
   "outputs": [
    {
     "name": "stdout",
     "output_type": "stream",
     "text": [
      "What would you like to do? Load/Unload/Change Driver/Check Seats/Admire/Quitload\n",
      "How many passengers are getting on? 30\n",
      "30 have boarded. There are 15 seats available on the bus.\n",
      "What would you like to do? Load/Unload/Change Driver/Check Seats/Admire/Quitunload'\n",
      "That is not a valid response. Please choose from the list.\n",
      "What would you like to do? Load/Unload/Change Driver/Check Seats/Admire/Quitunload\n",
      "How man passengers are getting off the bus? 20\n",
      "20 passengers have left the bus. There are 35 left\n",
      "What would you like to do? Load/Unload/Change Driver/Check Seats/Admire/Quitcheck seats\n",
      "There are 35 seats available\n",
      "What would you like to do? Load/Unload/Change Driver/Check Seats/Admire/Quitadmire\n",
      "Would ya just look at that beautiful yellow bus! WOULD YA JUST LOOK AT IT!\n",
      "What would you like to do? Load/Unload/Change Driver/Check Seats/Admire/Quitchange driver\n",
      "Who is replacing you? Ethan\n",
      "The new bus driver is Ethan. Be sure to thank them!\n",
      "What would you like to do? Load/Unload/Change Driver/Check Seats/Admire/Quitload\n",
      "How many passengers are getting on? 200\n",
      "You left 165 by the road!\n",
      "200 have boarded. There are 0 seats available on the bus.\n",
      "What would you like to do? Load/Unload/Change Driver/Check Seats/Admire/Quitunload\n",
      "How man passengers are getting off the bus? 170\n",
      "170 passengers have left the bus. There are 90 left\n",
      "What would you like to do? Load/Unload/Change Driver/Check Seats/Admire/Quitunload\n",
      "There is no one left top get off the bus!\n",
      "What would you like to do? Load/Unload/Change Driver/Check Seats/Admire/Quit50\n",
      "That is not a valid response. Please choose from the list.\n",
      "What would you like to do? Load/Unload/Change Driver/Check Seats/Admire/Quitquit\n",
      "OH NO! There are still passengers to be picked up. PLS don't abandon them!\n"
     ]
    }
   ],
   "source": [
    "def run():\n",
    "    ryan_bus = Bus(2, 90, 45, 'yellow', \"Ryan\")\n",
    "    while True:\n",
    "        response = input(\"What would you like to do? Load/Unload/Change Driver/Check Seats/Admire/Quit\").lower()\n",
    "        if response == \"quit\":\n",
    "            print(\"OH NO! There are still passengers to be picked up. PLS don't abandon them!\")\n",
    "            break\n",
    "        elif response == \"load\":\n",
    "            ryan_bus.load_passenger() #<-- dont forget your parentheses\n",
    "        \n",
    "        elif response == \"unload\":\n",
    "            ryan_bus.unload_passengers()\n",
    "            \n",
    "        elif response == \"change driver\":\n",
    "            ryan_bus.change_driver()\n",
    "            \n",
    "        elif response == \"check seats\":\n",
    "            ryan_bus.check_seats()\n",
    "            \n",
    "        elif response == \"admire\":\n",
    "            ryan_bus.admire_bus()\n",
    "            \n",
    "        else:\n",
    "            print(\"That is not a valid response. Please choose from the list.\")\n",
    "\n",
    "run()"
   ]
  },
  {
   "cell_type": "markdown",
   "metadata": {},
   "source": [
    "##### Calling"
   ]
  },
  {
   "cell_type": "code",
   "execution_count": null,
   "metadata": {},
   "outputs": [],
   "source": [
    "class Cart():\n",
    "    def __init__(self):\n",
    "        self.items = []\n",
    "        \n",
    "#     def add_item(self):\n",
    "#         item = input(\"What would you like to add?\")\n",
    "#         quantity = int(input(\"How many would you like to add? \"))\n",
    "#         if item not in self.items:\n",
    "#             self.items[item] = quantity\n",
    "#         else:\n",
    "#             self.items[item] += quantity\n",
    "\n",
    "    def add_item(self):\n",
    "        item = input(\"What would you like to add? \")\n",
    "        self.items.append(item)\n",
    "    \n",
    "    def show_cart(self):\n",
    "        print(self.items)\n",
    "        \n",
    "    def remove_item(self):\n",
    "        pass\n",
    "        \n",
    "my_cart = Cart()\n",
    "my_cart.add_item()\n",
    "my_cart.show_cart()\n",
    "my_cart.add_item()\n",
    "my_cart.show_cart()\n"
   ]
  },
  {
   "cell_type": "code",
   "execution_count": 50,
   "metadata": {},
   "outputs": [
    {
     "ename": "NameError",
     "evalue": "name 'Bus' is not defined",
     "output_type": "error",
     "traceback": [
      "\u001b[0;31m---------------------------------------------------------------------------\u001b[0m",
      "\u001b[0;31mNameError\u001b[0m                                 Traceback (most recent call last)",
      "Cell \u001b[0;32mIn[50], line 24\u001b[0m\n\u001b[1;32m     21\u001b[0m         \u001b[38;5;28;01melse\u001b[39;00m:\n\u001b[1;32m     22\u001b[0m             \u001b[38;5;28mprint\u001b[39m(\u001b[38;5;124m\"\u001b[39m\u001b[38;5;124mThat is not valid. please choose from the list\u001b[39m\u001b[38;5;124m\"\u001b[39m)\n\u001b[0;32m---> 24\u001b[0m \u001b[43mrun\u001b[49m\u001b[43m(\u001b[49m\u001b[43m)\u001b[49m\n",
      "Cell \u001b[0;32mIn[50], line 2\u001b[0m, in \u001b[0;36mrun\u001b[0;34m()\u001b[0m\n\u001b[1;32m      1\u001b[0m \u001b[38;5;28;01mdef\u001b[39;00m \u001b[38;5;21mrun\u001b[39m():\n\u001b[0;32m----> 2\u001b[0m     ryan_bus \u001b[38;5;241m=\u001b[39m \u001b[43mBus\u001b[49m(\u001b[38;5;241m2\u001b[39m, \u001b[38;5;241m90\u001b[39m, \u001b[38;5;241m45\u001b[39m, \u001b[38;5;124m'\u001b[39m\u001b[38;5;124myellow\u001b[39m\u001b[38;5;124m'\u001b[39m, \u001b[38;5;124m'\u001b[39m\u001b[38;5;124mRyan\u001b[39m\u001b[38;5;124m'\u001b[39m)\n\u001b[1;32m      4\u001b[0m     \u001b[38;5;28;01mwhile\u001b[39;00m \u001b[38;5;28;01mTrue\u001b[39;00m:\n\u001b[1;32m      5\u001b[0m         response \u001b[38;5;241m=\u001b[39m \u001b[38;5;28minput\u001b[39m(\u001b[38;5;124m\"\u001b[39m\u001b[38;5;124mWhat do you wanna do, Load/Unload/Change Driver/Check seats/ Admire/ Quit: \u001b[39m\u001b[38;5;124m\"\u001b[39m)\n",
      "\u001b[0;31mNameError\u001b[0m: name 'Bus' is not defined"
     ]
    }
   ],
   "source": [
    "# def run():\n",
    "#     ryan_bus = Bus(2, 90, 45, 'yellow', 'Ryan')\n",
    "    \n",
    "#     while True:\n",
    "#         response = input(\"What do you wanna do, Load/Unload/Change Driver/Check seats/ Admire/ Quit: \")\n",
    "#         if response.lower() == 'quit':\n",
    "#             print(\"Oh no\")\n",
    "#             break\n",
    "#         elif response.lower() == 'load':\n",
    "#             ryan_bus.load_passengers()\n",
    "#         elif response.lower() == 'unload':\n",
    "#             ryan_bus.unload_passenegers()\n",
    "            \n",
    "#         elif response.lower() == 'change driver':\n",
    "#             ryan_bus.change_driver()\n",
    "            \n",
    "#         elif response.lower() == 'check seats':\n",
    "#             ryan_bus.check_seats()\n",
    "#         elif response.lower() == \"admire\":\n",
    "#             ryan_bus.admire_bus()\n",
    "#         else:\n",
    "#             print(\"That is not valid. please choose from the list\")\n",
    "            \n",
    "# run()"
   ]
  },
  {
   "cell_type": "markdown",
   "metadata": {},
   "source": [
    "##### Modifying an Attribute's Value Through a Method"
   ]
  },
  {
   "cell_type": "code",
   "execution_count": null,
   "metadata": {},
   "outputs": [],
   "source": [
    "# see above\n",
    "# load_passengers()\n",
    "# unload_passengers()\n",
    "# change_driver()"
   ]
  },
  {
   "cell_type": "markdown",
   "metadata": {},
   "source": [
    "##### Incrementing an Attribute's Value Through a Method"
   ]
  },
  {
   "cell_type": "code",
   "execution_count": null,
   "metadata": {},
   "outputs": [],
   "source": [
    "#unload_passengers()"
   ]
  },
  {
   "cell_type": "markdown",
   "metadata": {},
   "source": [
    "##### In-Class Exercise #3 - Add a method that takes in three parameters of year, doors and seats and prints out a formatted print statement with make, model, year, seats, and doors"
   ]
  },
  {
   "cell_type": "code",
   "execution_count": null,
   "metadata": {},
   "outputs": [],
   "source": [
    "# Create class with 2 paramters inside of the __init__ which are make and model, more if you'd like\n",
    "class plants():\n",
    "    def __init__(self, amount, type_):\n",
    "        self.amount = amount\n",
    "        self.type_ = type_\n",
    "        \n",
    "    def new_plant(self):\n",
    "        plant_num = int(input(\"How many plants do you have? \"))\n",
    "        self.amount = plant_num\n",
    "        \n",
    "    \n",
    "    def plant_type(self):\n",
    "        \n",
    "        \n",
    "\n",
    "# Create two methods for your class\n",
    "\n",
    "# Create a method that alters an attribute for your class\n",
    "\n",
    "# Display method that prints information about the vehicle\n",
    "\n",
    "# Output: This car is from 2019 and is a Ford Expolorer and has 4 doors and 5 seats\n",
    "\n",
    "# reminder in order to call class methods object.method()\n",
    "\n",
    "\n",
    "\n"
   ]
  },
  {
   "cell_type": "code",
   "execution_count": 55,
   "metadata": {},
   "outputs": [
    {
     "ename": "SyntaxError",
     "evalue": "invalid syntax (1674570485.py, line 1)",
     "output_type": "error",
     "traceback": [
      "\u001b[0;36m  Cell \u001b[0;32mIn[55], line 1\u001b[0;36m\u001b[0m\n\u001b[0;31m    lass Car():\u001b[0m\n\u001b[0m         ^\u001b[0m\n\u001b[0;31mSyntaxError\u001b[0m\u001b[0;31m:\u001b[0m invalid syntax\n"
     ]
    }
   ],
   "source": [
    "lass Car():\n",
    "    def __init__(self, make, model):\n",
    "        self.make = make\n",
    "        self.model = model\n",
    "        self.year = 2022\n",
    "        self.seats = 5\n",
    "        self.doors = 4\n",
    "    def change_info(self, year, doors, seats):\n",
    "        self.year = year\n",
    "        self.seats = seats\n",
    "        self.doors = doors\n",
    "        \n",
    "    def display_info(self):\n",
    "        print(f\"The car is {self.year}-{self.make} {self.model} and it has {self.doors} door and {self.seats} seats\")\n",
    "\n",
    "dharti_car = Car(\"Honda\", \"CR-V\")\n",
    "dharti_car.display_info()\n",
    "dharti_car.change_info(2020, 4, 8)\n",
    "dharti_car.display_info()"
   ]
  },
  {
   "cell_type": "markdown",
   "metadata": {},
   "source": [
    "## Inheritance <br>\n",
    "<p>You can create a child-parent relationship between two classes by using inheritance. What this allows you to do is have overriding methods, but also inherit traits from the parent class. Think of it as an actual parent and child, the child will inherit the parent's genes, as will the classes in OOP</p>"
   ]
  },
  {
   "cell_type": "markdown",
   "metadata": {},
   "source": [
    "##### Syntax for Inheriting from a Parent Class"
   ]
  },
  {
   "cell_type": "code",
   "execution_count": 58,
   "metadata": {},
   "outputs": [],
   "source": [
    "class Animal:  #<-- parent class\n",
    "    acceleration = 9.8\n",
    "    def __init__(self, name, species, legs = 4):\n",
    "        self.name = name\n",
    "        self.species = species\n",
    "        self.legs = legs\n",
    "        \n",
    "    #generic parent method\n",
    "    def make_sounds(self):\n",
    "        print(\"Reeeeeee\")\n",
    "        \n",
    "        \n",
    "class Dog(Animal):\n",
    "    speed = 15\n",
    "    def __init__(self, name, species, legs, color):\n",
    "        \n",
    "        super().__init__(name, species, legs)\n",
    "        self.color = color\n",
    "        \n",
    "    def print_info(self):\n",
    "        print(f\"{self.name} runs at {self.speed} mph and acceleration {self.acceleration} mph^2\")\n",
    "        \n",
    "#grandshild class\n",
    "\n",
    "class Mutt(Dog):\n",
    "    color = \"Light brownish\"\n",
    "    \n",
    "    #Access the animal is a class throught the dog class\n",
    "    def __init__(self, name, species, eye_color, legs):\n",
    "        Dog.__init__(self, name, species, legs)\n",
    "        self.eye_color = eye_color\n",
    "        \n",
    "    #overide the make_soyund method\n",
    "    \n",
    "    def make_sound(self):\n",
    "        print(\"REEEEEEEEEEEEEE\")\n",
    "        \n",
    "        \n"
   ]
  },
  {
   "cell_type": "code",
   "execution_count": 59,
   "metadata": {},
   "outputs": [
    {
     "name": "stdout",
     "output_type": "stream",
     "text": [
      "9.8\n",
      "Kwicky\n"
     ]
    },
    {
     "ename": "AttributeError",
     "evalue": "'Animal' object has no attribute 'make_sound'",
     "output_type": "error",
     "traceback": [
      "\u001b[0;31m---------------------------------------------------------------------------\u001b[0m",
      "\u001b[0;31mAttributeError\u001b[0m                            Traceback (most recent call last)",
      "Cell \u001b[0;32mIn[59], line 4\u001b[0m\n\u001b[1;32m      2\u001b[0m \u001b[38;5;28mprint\u001b[39m(koala\u001b[38;5;241m.\u001b[39macceleration)\n\u001b[1;32m      3\u001b[0m \u001b[38;5;28mprint\u001b[39m(koala\u001b[38;5;241m.\u001b[39mname)\n\u001b[0;32m----> 4\u001b[0m \u001b[43mkoala\u001b[49m\u001b[38;5;241;43m.\u001b[39;49m\u001b[43mmake_sound\u001b[49m()\n",
      "\u001b[0;31mAttributeError\u001b[0m: 'Animal' object has no attribute 'make_sound'"
     ]
    }
   ],
   "source": [
    "koala = Animal(\"Kwicky\", \"Koala\")\n",
    "print(koala.acceleration)\n",
    "print(koala.name)\n",
    "koala.make_sound()"
   ]
  },
  {
   "cell_type": "markdown",
   "metadata": {},
   "source": [
    "##### The \\__init\\__() Method for a Child Class - super()"
   ]
  },
  {
   "cell_type": "code",
   "execution_count": null,
   "metadata": {
    "scrolled": true
   },
   "outputs": [],
   "source": []
  },
  {
   "cell_type": "markdown",
   "metadata": {},
   "source": [
    "##### Defining Attributes and Methods for the Child Class"
   ]
  },
  {
   "cell_type": "code",
   "execution_count": null,
   "metadata": {},
   "outputs": [],
   "source": [
    "# See Above"
   ]
  },
  {
   "cell_type": "markdown",
   "metadata": {},
   "source": [
    "##### Method Overriding"
   ]
  },
  {
   "cell_type": "code",
   "execution_count": null,
   "metadata": {},
   "outputs": [],
   "source": [
    "# See Above"
   ]
  },
  {
   "cell_type": "markdown",
   "metadata": {},
   "source": [
    "## Classes as Attributes <br>\n",
    "<p>Classes can also be used as attributes within another class. This is useful in situations where you need to keep variables locally stored, instead of globally stored.</p>"
   ]
  },
  {
   "cell_type": "code",
   "execution_count": 65,
   "metadata": {},
   "outputs": [
    {
     "name": "stdout",
     "output_type": "stream",
     "text": [
      "2023 Tesla Plaid 20\n",
      "20\n"
     ]
    }
   ],
   "source": [
    "class Battery():\n",
    "    VOLTZ = 7.8\n",
    "    \n",
    "    def __init__(self, cells):\n",
    "        self.cells = cells\n",
    "        \n",
    "class Car():\n",
    "    def __init__(self, year, make, model, battery):\n",
    "        self.year = year\n",
    "        self.make = make\n",
    "        self.model = model\n",
    "        self.battery = battery\n",
    "        \n",
    "    def print_info(self):\n",
    "        print(f\"{self.year} {self.make} {self.model} {self.battery.cells}\")\n",
    "        \n",
    "my_battery = Battery(20)\n",
    "\n",
    "tesla = Car(2023, \"Tesla\", \"Plaid\", my_battery)\n",
    "\n",
    "tesla.print_info()\n",
    "print(my_battery.cells)"
   ]
  },
  {
   "cell_type": "markdown",
   "metadata": {},
   "source": [
    "## Classes as Attributes <br>"
   ]
  },
  {
   "cell_type": "markdown",
   "metadata": {},
   "source": [
    "<b>Generators in classes</b>"
   ]
  },
  {
   "cell_type": "code",
   "execution_count": 93,
   "metadata": {},
   "outputs": [],
   "source": [
    "#iterate through a list of movie generea and yield each genrea untill we get to the end of the list\n",
    "# once the end of the list is hit we are going to do a try and excepct to print a message\n",
    "\n",
    "class Movie:\n",
    "    def __init__(self):\n",
    "        self.genres = [\"Spooky\", \"adventure\", \"drama\", \"Horror\", \"comedy\", \"action\", \"Romance\"]\n",
    "        self.generator_object = self.yield_genres()\n",
    "        \n",
    "    def yield_genres(self):\n",
    "        for genre in self.genres:\n",
    "            yield genre\n",
    "            \n",
    "    def show_genres(self):\n",
    "        try:\n",
    "            return next(self.generator_object)\n",
    "        except:\n",
    "            print(\"No more genres\")\n",
    "            \n",
    "my_movie = Movie()\n"
   ]
  },
  {
   "cell_type": "code",
   "execution_count": 102,
   "metadata": {},
   "outputs": [
    {
     "name": "stdout",
     "output_type": "stream",
     "text": [
      "No more genres\n"
     ]
    }
   ],
   "source": [
    "my_movie.show_genres()"
   ]
  },
  {
   "cell_type": "markdown",
   "metadata": {},
   "source": [
    "# Exercises"
   ]
  },
  {
   "cell_type": "markdown",
   "metadata": {},
   "source": [
    "### Exercise 1 - Turn the shopping cart program from last week into an object-oriented program\n",
    "\n",
    "The comments in the cell below are there as a guide for thinking about the problem. However, if you feel a different way is best for you and your own thought process, please do what feels best for you by all means."
   ]
  },
  {
   "cell_type": "code",
   "execution_count": 122,
   "metadata": {},
   "outputs": [],
   "source": [
    "# Create a class called cart that retains items and has methods to add, remove, and show\n",
    "\n",
    "class Cart():\n",
    "    \"\"\"\n",
    "    This class will have a dictionary\n",
    "    that we can use and manipulate.\n",
    "    this dictionary shoud:\n",
    "    --add items\n",
    "    --remove items\n",
    "    --show items\n",
    "    --quit\n",
    "    \n",
    "    \"\"\"\n",
    "    \n",
    "    def __init__(self, name):\n",
    "        self.my_dict = {}\n",
    "        self.name = name\n",
    "        \n",
    "    def add_items(self):\n",
    "        add = input(\"\\nWhat do you want to add: \")\n",
    "        amount = int(input(\"How many do you want to add: \"))\n",
    "        self.my_dict[add]= amount\n",
    "        \n",
    "    def del_items(self):\n",
    "        print(\"\\nHeres your shoping cart: \")\n",
    "        for key, value in self.my_dict.items():\n",
    "            print(f\"\\n{key}, {value}\")\n",
    "        remove = input(\"\\nWhat do you want to remove\")\n",
    "        del self.my_dict[remove]\n",
    "        \n",
    "    def show_items(self):\n",
    "        print(\"\\nHere's your shoping cart: \")\n",
    "        for key, value in self.my_dict.items():\n",
    "            print(f\"\\n{key}, {value}\")\n",
    "        \n",
    "    "
   ]
  },
  {
   "cell_type": "code",
   "execution_count": 123,
   "metadata": {},
   "outputs": [
    {
     "name": "stdout",
     "output_type": "stream",
     "text": [
      "What do you want to do, add/remove/show cart/quit: add\n",
      "\n",
      "What do you want to add: tupile\n",
      "How many do you want to add: 2\n",
      "What do you want to do, add/remove/show cart/quit: boat\n",
      "Sorry not a viable option\n",
      "What do you want to do, add/remove/show cart/quit: 60\n",
      "Sorry not a viable option\n",
      "What do you want to do, add/remove/show cart/quit: add\n",
      "\n",
      "What do you want to add: boat\n",
      "How many do you want to add: 60\n",
      "What do you want to do, add/remove/show cart/quit: add\n",
      "\n",
      "What do you want to add: car\n",
      "How many do you want to add: 1\n",
      "What do you want to do, add/remove/show cart/quit: quit\n",
      "Have a great day!\n",
      "\n",
      "Here's your shoping cart: \n",
      "\n",
      "tupile, 2\n",
      "\n",
      "boat, 60\n",
      "\n",
      "car, 1\n"
     ]
    }
   ],
   "source": [
    "def cart_run():\n",
    "    e_cart = Cart(\"Ethan\")\n",
    "    while True:\n",
    "        response = input(\"What do you want to do, add/remove/show cart/quit: \")\n",
    "        if response.lower() == \"quit\":\n",
    "            print(\"Have a great day!\")\n",
    "            e_cart.show_items()\n",
    "            break\n",
    "        elif response.lower() == \"add\":\n",
    "            e_cart.add_items()\n",
    "        elif response.lower() == \"remove\":\n",
    "            e_cart.del_items()\n",
    "        elif response.lower() == \"show cart\":\n",
    "            e_cart.show_items()\n",
    "        else:\n",
    "            print(\"Sorry not a viable option\")\n",
    "            \n",
    "\n",
    "cart_run()"
   ]
  },
  {
   "cell_type": "markdown",
   "metadata": {},
   "source": [
    "### Exercise 2 - Write a Python class which has two methods get_String and print_String. get_String accept a string from the user and print_String print the string in upper case"
   ]
  },
  {
   "cell_type": "code",
   "execution_count": 141,
   "metadata": {},
   "outputs": [
    {
     "name": "stdout",
     "output_type": "stream",
     "text": [
      "Type in a word: work\n",
      "WORK Ethan\n"
     ]
    }
   ],
   "source": [
    "class String():\n",
    "    def __init__(self, name):\n",
    "        self.name = name\n",
    "        self.user = None\n",
    "    def get_String(self):\n",
    "        self.user = input(\"Type in a word: \")\n",
    "    \n",
    "        \n",
    "    def print_String(self):\n",
    "        print(f\"{self.user.upper()} {self.name}\")\n",
    "        \n",
    "new_whatever = String(\"Ethan\")\n",
    "new_whatever.get_String()\n",
    "new_whatever.print_String()"
   ]
  },
  {
   "cell_type": "code",
   "execution_count": null,
   "metadata": {},
   "outputs": [],
   "source": []
  },
  {
   "cell_type": "code",
   "execution_count": null,
   "metadata": {},
   "outputs": [],
   "source": []
  }
 ],
 "metadata": {
  "kernelspec": {
   "display_name": "Python 3 (ipykernel)",
   "language": "python",
   "name": "python3"
  },
  "language_info": {
   "codemirror_mode": {
    "name": "ipython",
    "version": 3
   },
   "file_extension": ".py",
   "mimetype": "text/x-python",
   "name": "python",
   "nbconvert_exporter": "python",
   "pygments_lexer": "ipython3",
   "version": "3.9.7"
  }
 },
 "nbformat": 4,
 "nbformat_minor": 2
}
